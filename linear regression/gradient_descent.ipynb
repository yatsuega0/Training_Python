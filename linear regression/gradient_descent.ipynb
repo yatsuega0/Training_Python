{
 "cells": [
  {
   "cell_type": "code",
   "execution_count": 1,
   "metadata": {},
   "outputs": [],
   "source": [
    "import numpy as np\n",
    "import pandas as pd\n",
    "import seaborn as sns\n",
    "import matplotlib.pyplot as plt\n",
    "import japanize_matplotlib\n",
    "%matplotlib inline"
   ]
  },
  {
   "cell_type": "code",
   "execution_count": 2,
   "metadata": {},
   "outputs": [
    {
     "data": {
      "text/html": [
       "<div>\n",
       "<style scoped>\n",
       "    .dataframe tbody tr th:only-of-type {\n",
       "        vertical-align: middle;\n",
       "    }\n",
       "\n",
       "    .dataframe tbody tr th {\n",
       "        vertical-align: top;\n",
       "    }\n",
       "\n",
       "    .dataframe thead th {\n",
       "        text-align: right;\n",
       "    }\n",
       "</style>\n",
       "<table border=\"1\" class=\"dataframe\">\n",
       "  <thead>\n",
       "    <tr style=\"text-align: right;\">\n",
       "      <th></th>\n",
       "      <th>順位</th>\n",
       "      <th>選手名</th>\n",
       "      <th>チーム</th>\n",
       "      <th>打率</th>\n",
       "      <th>試合</th>\n",
       "      <th>打席数</th>\n",
       "      <th>打数</th>\n",
       "      <th>得点</th>\n",
       "      <th>安打</th>\n",
       "      <th>二塁打</th>\n",
       "      <th>...</th>\n",
       "      <th>盗塁刺</th>\n",
       "      <th>犠打</th>\n",
       "      <th>犠飛</th>\n",
       "      <th>四球</th>\n",
       "      <th>敬遠</th>\n",
       "      <th>死球</th>\n",
       "      <th>三振</th>\n",
       "      <th>併殺打</th>\n",
       "      <th>出塁率</th>\n",
       "      <th>長打率</th>\n",
       "    </tr>\n",
       "  </thead>\n",
       "  <tbody>\n",
       "    <tr>\n",
       "      <th>0</th>\n",
       "      <td>1</td>\n",
       "      <td>中野　拓夢</td>\n",
       "      <td>阪神</td>\n",
       "      <td>0.285</td>\n",
       "      <td>143</td>\n",
       "      <td>660</td>\n",
       "      <td>575</td>\n",
       "      <td>80</td>\n",
       "      <td>164</td>\n",
       "      <td>17</td>\n",
       "      <td>...</td>\n",
       "      <td>12</td>\n",
       "      <td>21</td>\n",
       "      <td>5</td>\n",
       "      <td>57</td>\n",
       "      <td>2</td>\n",
       "      <td>2</td>\n",
       "      <td>107</td>\n",
       "      <td>5</td>\n",
       "      <td>0.349</td>\n",
       "      <td>0.343</td>\n",
       "    </tr>\n",
       "    <tr>\n",
       "      <th>1</th>\n",
       "      <td>2</td>\n",
       "      <td>岡林　勇希</td>\n",
       "      <td>中日</td>\n",
       "      <td>0.279</td>\n",
       "      <td>143</td>\n",
       "      <td>633</td>\n",
       "      <td>584</td>\n",
       "      <td>61</td>\n",
       "      <td>163</td>\n",
       "      <td>21</td>\n",
       "      <td>...</td>\n",
       "      <td>8</td>\n",
       "      <td>9</td>\n",
       "      <td>1</td>\n",
       "      <td>39</td>\n",
       "      <td>1</td>\n",
       "      <td>0</td>\n",
       "      <td>89</td>\n",
       "      <td>11</td>\n",
       "      <td>0.324</td>\n",
       "      <td>0.365</td>\n",
       "    </tr>\n",
       "    <tr>\n",
       "      <th>2</th>\n",
       "      <td>3</td>\n",
       "      <td>大山　悠輔</td>\n",
       "      <td>阪神</td>\n",
       "      <td>0.288</td>\n",
       "      <td>143</td>\n",
       "      <td>625</td>\n",
       "      <td>513</td>\n",
       "      <td>80</td>\n",
       "      <td>148</td>\n",
       "      <td>29</td>\n",
       "      <td>...</td>\n",
       "      <td>3</td>\n",
       "      <td>0</td>\n",
       "      <td>8</td>\n",
       "      <td>99</td>\n",
       "      <td>5</td>\n",
       "      <td>5</td>\n",
       "      <td>120</td>\n",
       "      <td>13</td>\n",
       "      <td>0.403</td>\n",
       "      <td>0.456</td>\n",
       "    </tr>\n",
       "    <tr>\n",
       "      <th>3</th>\n",
       "      <td>3</td>\n",
       "      <td>柳田　悠岐</td>\n",
       "      <td>ソフトバンク</td>\n",
       "      <td>0.299</td>\n",
       "      <td>143</td>\n",
       "      <td>625</td>\n",
       "      <td>546</td>\n",
       "      <td>57</td>\n",
       "      <td>163</td>\n",
       "      <td>29</td>\n",
       "      <td>...</td>\n",
       "      <td>0</td>\n",
       "      <td>0</td>\n",
       "      <td>6</td>\n",
       "      <td>64</td>\n",
       "      <td>1</td>\n",
       "      <td>9</td>\n",
       "      <td>97</td>\n",
       "      <td>9</td>\n",
       "      <td>0.378</td>\n",
       "      <td>0.484</td>\n",
       "    </tr>\n",
       "    <tr>\n",
       "      <th>4</th>\n",
       "      <td>5</td>\n",
       "      <td>近藤　健介</td>\n",
       "      <td>ソフトバンク</td>\n",
       "      <td>0.303</td>\n",
       "      <td>143</td>\n",
       "      <td>613</td>\n",
       "      <td>492</td>\n",
       "      <td>75</td>\n",
       "      <td>149</td>\n",
       "      <td>33</td>\n",
       "      <td>...</td>\n",
       "      <td>4</td>\n",
       "      <td>0</td>\n",
       "      <td>6</td>\n",
       "      <td>109</td>\n",
       "      <td>7</td>\n",
       "      <td>6</td>\n",
       "      <td>117</td>\n",
       "      <td>7</td>\n",
       "      <td>0.431</td>\n",
       "      <td>0.528</td>\n",
       "    </tr>\n",
       "  </tbody>\n",
       "</table>\n",
       "<p>5 rows × 25 columns</p>\n",
       "</div>"
      ],
      "text/plain": [
       "   順位    選手名     チーム     打率   試合  打席数   打数  得点   安打  二塁打  ...  盗塁刺  犠打  犠飛  \\\n",
       "0   1  中野　拓夢      阪神  0.285  143  660  575  80  164   17  ...   12  21   5   \n",
       "1   2  岡林　勇希      中日  0.279  143  633  584  61  163   21  ...    8   9   1   \n",
       "2   3  大山　悠輔      阪神  0.288  143  625  513  80  148   29  ...    3   0   8   \n",
       "3   3  柳田　悠岐  ソフトバンク  0.299  143  625  546  57  163   29  ...    0   0   6   \n",
       "4   5  近藤　健介  ソフトバンク  0.303  143  613  492  75  149   33  ...    4   0   6   \n",
       "\n",
       "    四球  敬遠  死球   三振  併殺打    出塁率    長打率  \n",
       "0   57   2   2  107    5  0.349  0.343  \n",
       "1   39   1   0   89   11  0.324  0.365  \n",
       "2   99   5   5  120   13  0.403  0.456  \n",
       "3   64   1   9   97    9  0.378  0.484  \n",
       "4  109   7   6  117    7  0.431  0.528  \n",
       "\n",
       "[5 rows x 25 columns]"
      ]
     },
     "execution_count": 2,
     "metadata": {},
     "output_type": "execute_result"
    }
   ],
   "source": [
    "df = pd.read_csv(\"Fielder_Data2023.csv\")\n",
    "df.head()"
   ]
  },
  {
   "cell_type": "code",
   "execution_count": 3,
   "metadata": {},
   "outputs": [
    {
     "data": {
      "text/html": [
       "<div>\n",
       "<style scoped>\n",
       "    .dataframe tbody tr th:only-of-type {\n",
       "        vertical-align: middle;\n",
       "    }\n",
       "\n",
       "    .dataframe tbody tr th {\n",
       "        vertical-align: top;\n",
       "    }\n",
       "\n",
       "    .dataframe thead th {\n",
       "        text-align: right;\n",
       "    }\n",
       "</style>\n",
       "<table border=\"1\" class=\"dataframe\">\n",
       "  <thead>\n",
       "    <tr style=\"text-align: right;\">\n",
       "      <th></th>\n",
       "      <th>選手名</th>\n",
       "      <th>本塁打</th>\n",
       "      <th>OPS</th>\n",
       "    </tr>\n",
       "  </thead>\n",
       "  <tbody>\n",
       "    <tr>\n",
       "      <th>0</th>\n",
       "      <td>中野　拓夢</td>\n",
       "      <td>2</td>\n",
       "      <td>0.692</td>\n",
       "    </tr>\n",
       "    <tr>\n",
       "      <th>1</th>\n",
       "      <td>岡林　勇希</td>\n",
       "      <td>3</td>\n",
       "      <td>0.689</td>\n",
       "    </tr>\n",
       "    <tr>\n",
       "      <th>2</th>\n",
       "      <td>大山　悠輔</td>\n",
       "      <td>19</td>\n",
       "      <td>0.859</td>\n",
       "    </tr>\n",
       "    <tr>\n",
       "      <th>3</th>\n",
       "      <td>柳田　悠岐</td>\n",
       "      <td>22</td>\n",
       "      <td>0.862</td>\n",
       "    </tr>\n",
       "    <tr>\n",
       "      <th>4</th>\n",
       "      <td>近藤　健介</td>\n",
       "      <td>26</td>\n",
       "      <td>0.959</td>\n",
       "    </tr>\n",
       "    <tr>\n",
       "      <th>5</th>\n",
       "      <td>佐野　恵太</td>\n",
       "      <td>13</td>\n",
       "      <td>0.711</td>\n",
       "    </tr>\n",
       "    <tr>\n",
       "      <th>6</th>\n",
       "      <td>牧　秀悟</td>\n",
       "      <td>29</td>\n",
       "      <td>0.867</td>\n",
       "    </tr>\n",
       "    <tr>\n",
       "      <th>7</th>\n",
       "      <td>浅村　栄斗</td>\n",
       "      <td>26</td>\n",
       "      <td>0.830</td>\n",
       "    </tr>\n",
       "    <tr>\n",
       "      <th>8</th>\n",
       "      <td>村上　宗隆</td>\n",
       "      <td>31</td>\n",
       "      <td>0.875</td>\n",
       "    </tr>\n",
       "    <tr>\n",
       "      <th>9</th>\n",
       "      <td>岡本　和真</td>\n",
       "      <td>41</td>\n",
       "      <td>0.958</td>\n",
       "    </tr>\n",
       "    <tr>\n",
       "      <th>10</th>\n",
       "      <td>中村　晃</td>\n",
       "      <td>5</td>\n",
       "      <td>0.688</td>\n",
       "    </tr>\n",
       "    <tr>\n",
       "      <th>11</th>\n",
       "      <td>近本　光司</td>\n",
       "      <td>8</td>\n",
       "      <td>0.808</td>\n",
       "    </tr>\n",
       "    <tr>\n",
       "      <th>12</th>\n",
       "      <td>中村　奨吾</td>\n",
       "      <td>11</td>\n",
       "      <td>0.630</td>\n",
       "    </tr>\n",
       "    <tr>\n",
       "      <th>13</th>\n",
       "      <td>万波　中正</td>\n",
       "      <td>25</td>\n",
       "      <td>0.788</td>\n",
       "    </tr>\n",
       "    <tr>\n",
       "      <th>14</th>\n",
       "      <td>細川　成也</td>\n",
       "      <td>24</td>\n",
       "      <td>0.780</td>\n",
       "    </tr>\n",
       "    <tr>\n",
       "      <th>15</th>\n",
       "      <td>外崎　修汰</td>\n",
       "      <td>12</td>\n",
       "      <td>0.738</td>\n",
       "    </tr>\n",
       "    <tr>\n",
       "      <th>16</th>\n",
       "      <td>中川　圭太</td>\n",
       "      <td>12</td>\n",
       "      <td>0.751</td>\n",
       "    </tr>\n",
       "    <tr>\n",
       "      <th>17</th>\n",
       "      <td>松本　剛</td>\n",
       "      <td>3</td>\n",
       "      <td>0.665</td>\n",
       "    </tr>\n",
       "    <tr>\n",
       "      <th>18</th>\n",
       "      <td>小深田　大翔</td>\n",
       "      <td>5</td>\n",
       "      <td>0.660</td>\n",
       "    </tr>\n",
       "    <tr>\n",
       "      <th>19</th>\n",
       "      <td>佐藤　輝明</td>\n",
       "      <td>24</td>\n",
       "      <td>0.837</td>\n",
       "    </tr>\n",
       "    <tr>\n",
       "      <th>20</th>\n",
       "      <td>オスナ</td>\n",
       "      <td>23</td>\n",
       "      <td>0.745</td>\n",
       "    </tr>\n",
       "    <tr>\n",
       "      <th>21</th>\n",
       "      <td>関根　大気</td>\n",
       "      <td>4</td>\n",
       "      <td>0.642</td>\n",
       "    </tr>\n",
       "    <tr>\n",
       "      <th>22</th>\n",
       "      <td>サンタナ</td>\n",
       "      <td>18</td>\n",
       "      <td>0.844</td>\n",
       "    </tr>\n",
       "    <tr>\n",
       "      <th>23</th>\n",
       "      <td>ノイジー</td>\n",
       "      <td>9</td>\n",
       "      <td>0.623</td>\n",
       "    </tr>\n",
       "    <tr>\n",
       "      <th>24</th>\n",
       "      <td>マキノン</td>\n",
       "      <td>15</td>\n",
       "      <td>0.728</td>\n",
       "    </tr>\n",
       "    <tr>\n",
       "      <th>25</th>\n",
       "      <td>ポランコ</td>\n",
       "      <td>26</td>\n",
       "      <td>0.762</td>\n",
       "    </tr>\n",
       "    <tr>\n",
       "      <th>26</th>\n",
       "      <td>辰己　涼介</td>\n",
       "      <td>9</td>\n",
       "      <td>0.726</td>\n",
       "    </tr>\n",
       "    <tr>\n",
       "      <th>27</th>\n",
       "      <td>大島　洋平</td>\n",
       "      <td>0</td>\n",
       "      <td>0.650</td>\n",
       "    </tr>\n",
       "    <tr>\n",
       "      <th>28</th>\n",
       "      <td>大城　卓三</td>\n",
       "      <td>16</td>\n",
       "      <td>0.787</td>\n",
       "    </tr>\n",
       "    <tr>\n",
       "      <th>29</th>\n",
       "      <td>長岡　秀樹</td>\n",
       "      <td>3</td>\n",
       "      <td>0.575</td>\n",
       "    </tr>\n",
       "    <tr>\n",
       "      <th>30</th>\n",
       "      <td>菊池　涼介</td>\n",
       "      <td>5</td>\n",
       "      <td>0.640</td>\n",
       "    </tr>\n",
       "    <tr>\n",
       "      <th>31</th>\n",
       "      <td>今宮　健太</td>\n",
       "      <td>9</td>\n",
       "      <td>0.670</td>\n",
       "    </tr>\n",
       "    <tr>\n",
       "      <th>32</th>\n",
       "      <td>秋山　翔吾</td>\n",
       "      <td>4</td>\n",
       "      <td>0.709</td>\n",
       "    </tr>\n",
       "    <tr>\n",
       "      <th>33</th>\n",
       "      <td>紅林　弘太郎</td>\n",
       "      <td>8</td>\n",
       "      <td>0.695</td>\n",
       "    </tr>\n",
       "    <tr>\n",
       "      <th>34</th>\n",
       "      <td>桑原　将志</td>\n",
       "      <td>7</td>\n",
       "      <td>0.674</td>\n",
       "    </tr>\n",
       "    <tr>\n",
       "      <th>35</th>\n",
       "      <td>吉川　尚輝</td>\n",
       "      <td>7</td>\n",
       "      <td>0.675</td>\n",
       "    </tr>\n",
       "    <tr>\n",
       "      <th>36</th>\n",
       "      <td>宗　佑磨</td>\n",
       "      <td>2</td>\n",
       "      <td>0.622</td>\n",
       "    </tr>\n",
       "    <tr>\n",
       "      <th>37</th>\n",
       "      <td>山口　航輝</td>\n",
       "      <td>14</td>\n",
       "      <td>0.695</td>\n",
       "    </tr>\n",
       "    <tr>\n",
       "      <th>38</th>\n",
       "      <td>野村　佑希</td>\n",
       "      <td>13</td>\n",
       "      <td>0.692</td>\n",
       "    </tr>\n",
       "    <tr>\n",
       "      <th>39</th>\n",
       "      <td>安田　尚憲</td>\n",
       "      <td>9</td>\n",
       "      <td>0.679</td>\n",
       "    </tr>\n",
       "    <tr>\n",
       "      <th>40</th>\n",
       "      <td>木浪　聖也</td>\n",
       "      <td>1</td>\n",
       "      <td>0.653</td>\n",
       "    </tr>\n",
       "    <tr>\n",
       "      <th>41</th>\n",
       "      <td>石川　昂弥</td>\n",
       "      <td>13</td>\n",
       "      <td>0.676</td>\n",
       "    </tr>\n",
       "    <tr>\n",
       "      <th>42</th>\n",
       "      <td>宮﨑　敏郎</td>\n",
       "      <td>20</td>\n",
       "      <td>0.934</td>\n",
       "    </tr>\n",
       "    <tr>\n",
       "      <th>43</th>\n",
       "      <td>坂本　勇人</td>\n",
       "      <td>22</td>\n",
       "      <td>0.885</td>\n",
       "    </tr>\n",
       "    <tr>\n",
       "      <th>44</th>\n",
       "      <td>森　友哉</td>\n",
       "      <td>18</td>\n",
       "      <td>0.893</td>\n",
       "    </tr>\n",
       "    <tr>\n",
       "      <th>45</th>\n",
       "      <td>頓宮　裕真</td>\n",
       "      <td>16</td>\n",
       "      <td>0.862</td>\n",
       "    </tr>\n",
       "    <tr>\n",
       "      <th>46</th>\n",
       "      <td>坂倉　将吾</td>\n",
       "      <td>12</td>\n",
       "      <td>0.757</td>\n",
       "    </tr>\n",
       "    <tr>\n",
       "      <th>47</th>\n",
       "      <td>マルティネス</td>\n",
       "      <td>15</td>\n",
       "      <td>0.763</td>\n",
       "    </tr>\n",
       "    <tr>\n",
       "      <th>48</th>\n",
       "      <td>西川　龍馬</td>\n",
       "      <td>9</td>\n",
       "      <td>0.760</td>\n",
       "    </tr>\n",
       "    <tr>\n",
       "      <th>49</th>\n",
       "      <td>小郷　裕哉</td>\n",
       "      <td>10</td>\n",
       "      <td>0.716</td>\n",
       "    </tr>\n",
       "    <tr>\n",
       "      <th>50</th>\n",
       "      <td>秋広　優人</td>\n",
       "      <td>10</td>\n",
       "      <td>0.719</td>\n",
       "    </tr>\n",
       "    <tr>\n",
       "      <th>51</th>\n",
       "      <td>源田　壮亮</td>\n",
       "      <td>0</td>\n",
       "      <td>0.607</td>\n",
       "    </tr>\n",
       "    <tr>\n",
       "      <th>52</th>\n",
       "      <td>丸　佳浩</td>\n",
       "      <td>18</td>\n",
       "      <td>0.729</td>\n",
       "    </tr>\n",
       "    <tr>\n",
       "      <th>53</th>\n",
       "      <td>山田　哲人</td>\n",
       "      <td>14</td>\n",
       "      <td>0.721</td>\n",
       "    </tr>\n",
       "    <tr>\n",
       "      <th>54</th>\n",
       "      <td>甲斐　拓也</td>\n",
       "      <td>10</td>\n",
       "      <td>0.602</td>\n",
       "    </tr>\n",
       "    <tr>\n",
       "      <th>55</th>\n",
       "      <td>野間　峻祥</td>\n",
       "      <td>0</td>\n",
       "      <td>0.672</td>\n",
       "    </tr>\n",
       "    <tr>\n",
       "      <th>56</th>\n",
       "      <td>清宮　幸太郎</td>\n",
       "      <td>10</td>\n",
       "      <td>0.734</td>\n",
       "    </tr>\n",
       "    <tr>\n",
       "      <th>57</th>\n",
       "      <td>岡島　豪郎</td>\n",
       "      <td>6</td>\n",
       "      <td>0.698</td>\n",
       "    </tr>\n",
       "  </tbody>\n",
       "</table>\n",
       "</div>"
      ],
      "text/plain": [
       "       選手名  本塁打    OPS\n",
       "0    中野　拓夢    2  0.692\n",
       "1    岡林　勇希    3  0.689\n",
       "2    大山　悠輔   19  0.859\n",
       "3    柳田　悠岐   22  0.862\n",
       "4    近藤　健介   26  0.959\n",
       "5    佐野　恵太   13  0.711\n",
       "6     牧　秀悟   29  0.867\n",
       "7    浅村　栄斗   26  0.830\n",
       "8    村上　宗隆   31  0.875\n",
       "9    岡本　和真   41  0.958\n",
       "10    中村　晃    5  0.688\n",
       "11   近本　光司    8  0.808\n",
       "12   中村　奨吾   11  0.630\n",
       "13   万波　中正   25  0.788\n",
       "14   細川　成也   24  0.780\n",
       "15   外崎　修汰   12  0.738\n",
       "16   中川　圭太   12  0.751\n",
       "17    松本　剛    3  0.665\n",
       "18  小深田　大翔    5  0.660\n",
       "19   佐藤　輝明   24  0.837\n",
       "20     オスナ   23  0.745\n",
       "21   関根　大気    4  0.642\n",
       "22    サンタナ   18  0.844\n",
       "23    ノイジー    9  0.623\n",
       "24    マキノン   15  0.728\n",
       "25    ポランコ   26  0.762\n",
       "26   辰己　涼介    9  0.726\n",
       "27   大島　洋平    0  0.650\n",
       "28   大城　卓三   16  0.787\n",
       "29   長岡　秀樹    3  0.575\n",
       "30   菊池　涼介    5  0.640\n",
       "31   今宮　健太    9  0.670\n",
       "32   秋山　翔吾    4  0.709\n",
       "33  紅林　弘太郎    8  0.695\n",
       "34   桑原　将志    7  0.674\n",
       "35   吉川　尚輝    7  0.675\n",
       "36    宗　佑磨    2  0.622\n",
       "37   山口　航輝   14  0.695\n",
       "38   野村　佑希   13  0.692\n",
       "39   安田　尚憲    9  0.679\n",
       "40   木浪　聖也    1  0.653\n",
       "41   石川　昂弥   13  0.676\n",
       "42   宮﨑　敏郎   20  0.934\n",
       "43   坂本　勇人   22  0.885\n",
       "44    森　友哉   18  0.893\n",
       "45   頓宮　裕真   16  0.862\n",
       "46   坂倉　将吾   12  0.757\n",
       "47  マルティネス   15  0.763\n",
       "48   西川　龍馬    9  0.760\n",
       "49   小郷　裕哉   10  0.716\n",
       "50   秋広　優人   10  0.719\n",
       "51   源田　壮亮    0  0.607\n",
       "52    丸　佳浩   18  0.729\n",
       "53   山田　哲人   14  0.721\n",
       "54   甲斐　拓也   10  0.602\n",
       "55   野間　峻祥    0  0.672\n",
       "56  清宮　幸太郎   10  0.734\n",
       "57   岡島　豪郎    6  0.698"
      ]
     },
     "execution_count": 3,
     "metadata": {},
     "output_type": "execute_result"
    }
   ],
   "source": [
    "threshold_plate_appearances = 400\n",
    "\n",
    "# 今回は打席数400以上の選手を抽出\n",
    "df = df[df['打席数'] >= threshold_plate_appearances]\n",
    "\n",
    "# OPS 出塁率+長打率\n",
    "df[\"OPS\"] = df[\"出塁率\"] + df[\"長打率\"]\n",
    "\n",
    "# カラムを選手名と本塁打とOPSに絞る\n",
    "df = df[[\"選手名\", \"本塁打\", \"OPS\"]]\n",
    "df"
   ]
  },
  {
   "cell_type": "code",
   "execution_count": 4,
   "metadata": {},
   "outputs": [
    {
     "data": {
      "image/png": "[encoded data removed]",
      "text/plain": [
       "<Figure size 640x480 with 1 Axes>"
      ]
     },
     "metadata": {},
     "output_type": "display_data"
    }
   ],
   "source": [
    "sns.scatterplot(x=df['本塁打'], y=df['OPS'])\n",
    "plt.show()"
   ]
  },
  {
   "cell_type": "markdown",
   "metadata": {},
   "source": [
    "### 最小二乗法 $\\frac{1}{m}\\sum_{i=1}^{m}\\left\\{y_i-(\\theta_0+\\theta_1x_i)\\right\\}^2$"
   ]
  },
  {
   "cell_type": "code",
   "execution_count": 5,
   "metadata": {},
   "outputs": [
    {
     "data": {
      "text/plain": [
       "array([2.81748640e+01, 5.34507210e+01, 1.53201788e+03, 2.03743904e+03,\n",
       "       2.81334768e+03, 7.44689521e+02, 3.49671169e+03, 2.82704890e+03,\n",
       "       3.98476562e+03, 6.89597376e+03, 1.27961344e+02, 2.95564864e+02,\n",
       "       5.46156900e+02, 2.62266894e+03, 2.42260840e+03, 6.38168644e+02,\n",
       "       6.37512001e+02, 5.38022250e+01, 1.28595600e+02, 2.41700057e+03,\n",
       "       2.23303503e+03, 8.75721640e+01, 1.38056834e+03, 3.75468129e+02,\n",
       "       9.77937984e+02, 2.83428464e+03, 3.71487076e+02, 1.82250000e+00,\n",
       "       1.10310337e+03, 5.51306250e+01, 1.29049600e+02, 3.73648900e+02,\n",
       "       8.63226810e+01, 2.99463025e+02, 2.34886276e+02, 2.34855625e+02,\n",
       "       2.89228840e+01, 8.58783025e+02, 7.45726864e+02, 3.73301041e+02,\n",
       "       1.12024090e+01, 7.46600976e+02, 1.68641636e+03, 2.03536323e+03,\n",
       "       1.37692945e+03, 1.09812704e+03, 6.37209049e+02, 9.75750169e+02,\n",
       "       3.70177600e+02, 4.53008656e+02, 4.52880961e+02, 1.94044900e+00,\n",
       "       1.38912744e+03, 8.57259841e+02, 4.57874404e+02, 1.76358400e+00,\n",
       "       4.52242756e+02, 1.76943204e+02])"
      ]
     },
     "metadata": {},
     "output_type": "display_data"
    },
    {
     "data": {
      "text/plain": [
       "1039.135284948276"
      ]
     },
     "execution_count": 5,
     "metadata": {},
     "output_type": "execute_result"
    }
   ],
   "source": [
    "x = df['本塁打'].values\n",
    "y = df['OPS'].values\n",
    "theta_0 = 2\n",
    "theta_1 = 2\n",
    "# 各データにおける残差（正解値と予測値のズレ）の二乗和\n",
    "display((y-(theta_0 + theta_1 * x))**2)\n",
    "# 損失関数を求める\n",
    "np.mean((y-(theta_0 + theta_1 * x))**2)"
   ]
  },
  {
   "cell_type": "markdown",
   "metadata": {},
   "source": [
    "### 損失関数を定義 : $L(\\theta_0, \\theta_1)=\\frac{1}{m}\\sum_{i=1}^{m}e_i^2=\\frac{1}{m}\\sum_{i=1}^{m}\\left\\{y_i-(\\theta_0+\\theta_1x_i)\\right\\}^2$"
   ]
  },
  {
   "cell_type": "code",
   "execution_count": 6,
   "metadata": {},
   "outputs": [],
   "source": [
    "def loss_func(theta_0, theta_1, x, y):\n",
    "    return np.mean((y-(theta_0 + theta_1 * x))**2)"
   ]
  },
  {
   "cell_type": "code",
   "execution_count": 7,
   "metadata": {},
   "outputs": [
    {
     "data": {
      "text/plain": [
       "1039.135284948276"
      ]
     },
     "execution_count": 7,
     "metadata": {},
     "output_type": "execute_result"
    }
   ],
   "source": [
    "loss_func(2, 2, x, y)"
   ]
  },
  {
   "cell_type": "markdown",
   "metadata": {},
   "source": [
    "### 最急降下法"
   ]
  },
  {
   "cell_type": "code",
   "execution_count": 8,
   "metadata": {},
   "outputs": [],
   "source": [
    "# θ0とθ1の初期値を設定\n",
    "theta_0_init = -5\n",
    "theta_1_init = 5\n",
    "\n",
    "# イテレーションの数\n",
    "epoch = 10**5\n",
    "\n",
    "# 学習率\n",
    "alpha = 0.0001"
   ]
  },
  {
   "cell_type": "markdown",
   "metadata": {},
   "source": [
    "### $\\theta_0$ のパラメータを更新($\\theta_1$と同時に更新)\n",
    "$\\theta_0:=\\theta_0-\\alpha\\frac{\\partial}{\\partial\\theta_0}L(\\theta_0, \\theta_1)$\n",
    "\n",
    "元々の$\\theta_0$に対して$\\theta_0$で偏微分した損失関数の勾配ベクトルに学習率をかけて逆方向に進めたものを$\\theta_0$に代入\n",
    "\n",
    "$L(\\theta_0, \\theta_1)$にMSE($\\frac{1}{m}\\sum_{i=1}^{m}\\left\\{y_i-(\\theta_0+\\theta_1x_i)\\right\\}^2$)を代入\n"
   ]
  },
  {
   "cell_type": "markdown",
   "metadata": {},
   "source": [
    "#### $\\frac{\\partial}{\\partial\\theta_0}L(\\theta_0, \\theta_1)$ = $\\frac{2}{m}\\sum_{i=1}^{m}(\\theta_0+\\theta_1x_i-y_i)$"
   ]
  },
  {
   "cell_type": "code",
   "execution_count": 9,
   "metadata": {},
   "outputs": [],
   "source": [
    "def update_theta0(theta_0, theta_1, x, y, alpha=0.001):\n",
    "    return theta_0 - alpha * 2 * np.mean((theta_0 + theta_1 * x) - y)"
   ]
  },
  {
   "cell_type": "code",
   "execution_count": 10,
   "metadata": {},
   "outputs": [
    {
     "data": {
      "text/plain": [
       "-5.117142724137931"
      ]
     },
     "execution_count": 10,
     "metadata": {},
     "output_type": "execute_result"
    }
   ],
   "source": [
    "update_theta0(theta_0_init, theta_1_init, x, y)"
   ]
  },
  {
   "cell_type": "markdown",
   "metadata": {},
   "source": [
    "### $\\theta_1$ のパラメータ更新($\\theta_0$と同時に更新)\n",
    "$\\theta_1:=\\theta_1-\\alpha\\frac{\\partial}{\\partial\\theta_1}L(\\theta_0, \\theta_1)$\n",
    "\n",
    "元々の$\\theta_1$に対して$\\theta_1$で偏微分した損失関数の勾配ベクトルに学習率をかけて逆方向に進めたものを$\\theta_1$に代入\n"
   ]
  },
  {
   "cell_type": "markdown",
   "metadata": {},
   "source": [
    "#### $\\frac{\\partial}{\\partial\\theta_1}L(\\theta_0, \\theta_1)$ = $\\frac{2}{m}\\sum_{i=1}^{m}(\\theta_0+\\theta_1x_i-y_i)x_i$"
   ]
  },
  {
   "cell_type": "code",
   "execution_count": 11,
   "metadata": {},
   "outputs": [],
   "source": [
    "def update_theta1(theta_0, theta_1, x, y, alpha=0.001):\n",
    "    return theta_1 - alpha * 2 * np.mean(((theta_0 + theta_1 * x) - y) * x)"
   ]
  },
  {
   "cell_type": "code",
   "execution_count": 12,
   "metadata": {},
   "outputs": [
    {
     "data": {
      "text/plain": [
       "2.7106799655172407"
      ]
     },
     "execution_count": 12,
     "metadata": {},
     "output_type": "execute_result"
    }
   ],
   "source": [
    "update_theta1(theta_0_init, theta_1_init, x, y)"
   ]
  },
  {
   "cell_type": "markdown",
   "metadata": {},
   "source": [
    "### $\\theta_0$と$\\theta_1$をイテレーションにより更新"
   ]
  },
  {
   "cell_type": "code",
   "execution_count": 13,
   "metadata": {},
   "outputs": [],
   "source": [
    "theta_0_hist = []\n",
    "theta_1_hist = []\n",
    "# 初期化\n",
    "theta_0_hist.append(theta_0_init)\n",
    "theta_1_hist.append(theta_1_init)\n",
    "\n",
    "for _ in range(epoch):\n",
    "    update_theta_0 = update_theta0(theta_0_hist[-1], theta_1_hist[-1], x=x, y=y, alpha=alpha)\n",
    "    update_theta_1 = update_theta1(theta_0_hist[-1], theta_1_hist[-1], x=x, y=y, alpha=alpha)\n",
    "    theta_0_hist.append(update_theta_0)\n",
    "    theta_1_hist.append(update_theta_1)"
   ]
  },
  {
   "cell_type": "code",
   "execution_count": 14,
   "metadata": {},
   "outputs": [
    {
     "data": {
      "text/plain": [
       "0.6206086197526715"
      ]
     },
     "execution_count": 14,
     "metadata": {},
     "output_type": "execute_result"
    }
   ],
   "source": [
    "theta_0_hist[-1]"
   ]
  },
  {
   "cell_type": "code",
   "execution_count": 15,
   "metadata": {},
   "outputs": [
    {
     "data": {
      "text/plain": [
       "0.008962978452203896"
      ]
     },
     "execution_count": 15,
     "metadata": {},
     "output_type": "execute_result"
    }
   ],
   "source": [
    "theta_1_hist[-1]"
   ]
  },
  {
   "cell_type": "markdown",
   "metadata": {},
   "source": [
    "### 最急降下法の結果の推移"
   ]
  },
  {
   "cell_type": "code",
   "execution_count": 16,
   "metadata": {},
   "outputs": [],
   "source": [
    "ops_cost = [loss_func(*param, x=x, y=y) for param in zip(theta_0_hist, theta_1_hist)]"
   ]
  },
  {
   "cell_type": "code",
   "execution_count": 17,
   "metadata": {},
   "outputs": [
    {
     "data": {
      "text/plain": [
       "0.0029272547619847845"
      ]
     },
     "execution_count": 17,
     "metadata": {},
     "output_type": "execute_result"
    }
   ],
   "source": [
    "ops_cost[-1]"
   ]
  },
  {
   "cell_type": "markdown",
   "metadata": {},
   "source": [
    "### 最適なパラメータを使った回帰モデルの直線を描画"
   ]
  },
  {
   "cell_type": "code",
   "execution_count": 18,
   "metadata": {},
   "outputs": [
    {
     "data": {
      "image/png": "[encoded data removed]",
      "text/plain": [
       "<Figure size 640x480 with 1 Axes>"
      ]
     },
     "metadata": {},
     "output_type": "display_data"
    }
   ],
   "source": [
    "sns.scatterplot(x=df['本塁打'], y=df['OPS'])\n",
    "x_values = np.arange(55)\n",
    "y_values = theta_0_hist[-1] + theta_1_hist[-1]*x_values\n",
    "plt.plot(x_values, y_values, '-', color='r')\n",
    "plt.show()"
   ]
  },
  {
   "cell_type": "markdown",
   "metadata": {},
   "source": [
    "### 予測\n",
    "$y=\\theta_0+\\theta_1x$"
   ]
  },
  {
   "cell_type": "code",
   "execution_count": 19,
   "metadata": {},
   "outputs": [
    {
     "name": "stdout",
     "output_type": "stream",
     "text": [
      "0.746090318083526\n"
     ]
    }
   ],
   "source": [
    "# 山田　哲人 本塁打:14 OPS:0.721\n",
    "Home_Run = 14\n",
    "OPS = theta_0_hist[-1] + theta_1_hist[-1]*Home_Run\n",
    "print(OPS)"
   ]
  },
  {
   "cell_type": "code",
   "execution_count": 22,
   "metadata": {},
   "outputs": [
    {
     "data": {
      "image/png": "[encoded data removed]",
      "text/plain": [
       "<Figure size 640x480 with 1 Axes>"
      ]
     },
     "metadata": {},
     "output_type": "display_data"
    },
    {
     "name": "stdout",
     "output_type": "stream",
     "text": [
      "[2.81748640e+01 5.34507210e+01 1.53201788e+03 2.03743904e+03\n",
      " 2.81334768e+03 7.44689521e+02 3.49671169e+03 2.82704890e+03\n",
      " 3.98476562e+03 6.89597376e+03 1.27961344e+02 2.95564864e+02\n",
      " 5.46156900e+02 2.62266894e+03 2.42260840e+03 6.38168644e+02\n",
      " 6.37512001e+02 5.38022250e+01 1.28595600e+02 2.41700057e+03\n",
      " 2.23303503e+03 8.75721640e+01 1.38056834e+03 3.75468129e+02\n",
      " 9.77937984e+02 2.83428464e+03 3.71487076e+02 1.82250000e+00\n",
      " 1.10310337e+03 5.51306250e+01 1.29049600e+02 3.73648900e+02\n",
      " 8.63226810e+01 2.99463025e+02 2.34886276e+02 2.34855625e+02\n",
      " 2.89228840e+01 8.58783025e+02 7.45726864e+02 3.73301041e+02\n",
      " 1.12024090e+01 7.46600976e+02 1.68641636e+03 2.03536323e+03\n",
      " 1.37692945e+03 1.09812704e+03 6.37209049e+02 9.75750169e+02\n",
      " 3.70177600e+02 4.53008656e+02 4.52880961e+02 1.94044900e+00\n",
      " 1.38912744e+03 8.57259841e+02 4.57874404e+02 1.76358400e+00\n",
      " 4.52242756e+02 1.76943204e+02]\n"
     ]
    },
    {
     "data": {
      "image/png": "[encoded data removed]",
      "text/plain": [
       "<Figure size 640x480 with 1 Axes>"
      ]
     },
     "metadata": {},
     "output_type": "display_data"
    },
    {
     "name": "stdout",
     "output_type": "stream",
     "text": [
      "θ0 0.6206086197526715\n",
      "θ1 0.008962978452203896\n",
      "0.0029272547619847845\n",
      "予測 0.746090318083526\n"
     ]
    },
    {
     "data": {
      "text/plain": [
       "<Figure size 640x480 with 0 Axes>"
      ]
     },
     "metadata": {},
     "output_type": "display_data"
    }
   ],
   "source": [
    "%run gradient_descent.py"
   ]
  },
  {
   "cell_type": "code",
   "execution_count": null,
   "metadata": {},
   "outputs": [],
   "source": []
  }
 ],
 "metadata": {
  "kernelspec": {
   "display_name": ".venv",
   "language": "python",
   "name": "python3"
  },
  "language_info": {
   "codemirror_mode": {
    "name": "ipython",
    "version": 3
   },
   "file_extension": ".py",
   "mimetype": "text/x-python",
   "name": "python",
   "nbconvert_exporter": "python",
   "pygments_lexer": "ipython3",
   "version": "3.11.0"
  }
 },
 "nbformat": 4,
 "nbformat_minor": 2
}
