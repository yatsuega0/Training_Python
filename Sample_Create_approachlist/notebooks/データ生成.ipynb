{
 "cells": [
  {
   "cell_type": "markdown",
   "id": "ea98cf67",
   "metadata": {},
   "source": [
    "### アプローチリストに使用するサンプルデータの生成\n",
    "\n",
    "    それぞれのデータを生成し、個人情報はマスク化の処理を行う（厳密な方法ではない）\n",
    "\n",
    "    ・契約データ：主人公となるデータ\n",
    "\n",
    "    ・スコアリングデータ：webサイト未登録者に対してスコアリング（webサイトに登録してくれるであろう確率）を付与したデータ\n",
    "\n",
    "    ・直近のwebサイト登録者：直近webサイトに登録した契約者のリスト"
   ]
  },
  {
   "cell_type": "code",
   "execution_count": 1,
   "id": "34a13973-d4d8-4d09-abdb-bd96b4f8784c",
   "metadata": {},
   "outputs": [],
   "source": [
    "import pandas as pd\n",
    "import numpy as np\n",
    "import hashlib"
   ]
  },
  {
   "cell_type": "code",
   "execution_count": 2,
   "id": "ece1809f-8373-484c-98f0-7263c1d0a5e8",
   "metadata": {},
   "outputs": [],
   "source": [
    "# SHA-256でハッシュ化する関数\n",
    "def hash_mask(value):\n",
    "    hashed_value = hashlib.sha256(str(value).encode()).hexdigest()\n",
    "    return hashed_value[:10]  # ハッシュ化された文字列の先頭10桁をマスク化に使用"
   ]
  },
  {
   "cell_type": "markdown",
   "id": "1e5b4900-d94f-48a8-9414-0a04c141f028",
   "metadata": {},
   "source": [
    "## データを生成"
   ]
  },
  {
   "cell_type": "code",
   "execution_count": 3,
   "id": "88419f53-bd9f-4244-b9df-ba8a295c46b8",
   "metadata": {},
   "outputs": [],
   "source": [
    "# シード値を指定\n",
    "seed_value = 1\n",
    "np.random.seed(seed_value)\n",
    "\n",
    "\n",
    "# 生データの生成\n",
    "num_contracts = 15000  # 主契約データの件数\n",
    "num_customers = 8000  # 契約者の人数（基本契約番号のユニーク数）\n",
    "num_scores = 5000     # スコアリングデータの件数\n",
    "num_registered = 2500 # Webサイト登録者数\n",
    "\n",
    "\n",
    "# 基本契約番号（12桁のランダムな整数）、証券番号（11桁のランダムな整数）を生成\n",
    "basic_contract_numbers = np.random.randint(100000000000, 999999999999, num_customers)\n",
    "basic_contract_numbers = np.repeat(basic_contract_numbers, np.random.randint(1, 4, num_customers))[:num_contracts]  # 1人の顧客が1〜3つの契約を持つ\n",
    "policy_numbers = np.random.randint(10000000000, 99999999999, num_contracts)\n",
    "status_codes = np.random.choice(['有効', '無効'], num_contracts, p=[0.8, 0.2])  # 80%は有効な契約\n",
    "\n",
    "\n",
    "\"\"\"\n",
    "スコアリングデータを生成（基本契約番号に対して一意のスコア）\n",
    "本来であれば、スコアリングのモデルを構築し、webサイト未登録の契約者にスコアを付与したデータとなる\n",
    "\"\"\"\n",
    "score_contract_numbers = np.random.choice(np.unique(basic_contract_numbers), num_scores, replace=False)\n",
    "# スコア分布の調整\n",
    "# 90-のスコアの発生確率を少なくし、それ以外のスコアの確率を高くする\n",
    "score_values = np.arange(0, 100)  # スコアの範囲\n",
    "probabilities = np.ones(100)  # 各スコアの初期確率を1に設定\n",
    "# 90-97のスコアの確率を減らす\n",
    "probabilities[90:98] = 0.2  \n",
    "probabilities /= probabilities.sum()  # 確率の合計を1にするため正規化\n",
    "# 調整された確率に基づいてスコアを生成\n",
    "scores = np.random.choice(score_values, num_scores, p=probabilities)\n",
    "scores = np.random.randint(0, 98, num_scores)\n",
    "\n",
    "\n",
    "# Webサイト登録者のリストを生成（基本契約番号のみ、重複なし）\n",
    "registered_contract_numbers = np.random.choice(np.unique(basic_contract_numbers), num_registered, replace=False)\n",
    "\n",
    "\n",
    "\"\"\"\n",
    "契約データのDataFrameを作成\n",
    "こちらからwebサイト未登録の契約者を取得する（主人公）\n",
    "\"\"\"\n",
    "df_contracts = pd.DataFrame({\n",
    "    '基本契約番号': basic_contract_numbers,\n",
    "    '証券番号': policy_numbers,\n",
    "    '契約ステータスコード': status_codes\n",
    "})\n",
    "\n",
    "# スコアリングデータのDataFrameを作成\n",
    "df_scores = pd.DataFrame({\n",
    "    '基本契約番号': score_contract_numbers,\n",
    "    '登録スコア': scores\n",
    "})\n",
    "\n",
    "\"\"\"\n",
    "Webサイト登録者リストのDataFrameを作成\n",
    "webサイト未登録の契約者をフィルタリングするために利用\n",
    "\"\"\"\n",
    "df_registered = pd.DataFrame({\n",
    "    '基本契約番号': registered_contract_numbers\n",
    "})"
   ]
  },
  {
   "cell_type": "markdown",
   "id": "f2bae3b7-50c6-4742-a4cd-8dec68d4351e",
   "metadata": {},
   "source": [
    "### データのマスク化"
   ]
  },
  {
   "cell_type": "code",
   "execution_count": 7,
   "id": "05384b28-aa3d-4b5c-b749-fbee503bfb7c",
   "metadata": {},
   "outputs": [],
   "source": [
    "df_contracts['基本契約番号'] = df_contracts['基本契約番号'].apply(hash_mask)\n",
    "df_contracts['証券番号'] = df_contracts['証券番号'].apply(hash_mask)\n",
    "df_scores['基本契約番号'] = df_scores['基本契約番号'].apply(hash_mask)\n",
    "df_registered['基本契約番号'] = df_registered['基本契約番号'].apply(hash_mask)"
   ]
  },
  {
   "cell_type": "code",
   "execution_count": 8,
   "id": "3e673567-7bfc-41e6-8625-9b57ad149734",
   "metadata": {},
   "outputs": [
    {
     "name": "stdout",
     "output_type": "stream",
     "text": [
      "(15000, 3)\n",
      "15000\n",
      "7480\n"
     ]
    },
    {
     "data": {
      "text/html": [
       "<div>\n",
       "<style scoped>\n",
       "    .dataframe tbody tr th:only-of-type {\n",
       "        vertical-align: middle;\n",
       "    }\n",
       "\n",
       "    .dataframe tbody tr th {\n",
       "        vertical-align: top;\n",
       "    }\n",
       "\n",
       "    .dataframe thead th {\n",
       "        text-align: right;\n",
       "    }\n",
       "</style>\n",
       "<table border=\"1\" class=\"dataframe\">\n",
       "  <thead>\n",
       "    <tr style=\"text-align: right;\">\n",
       "      <th></th>\n",
       "      <th>基本契約番号</th>\n",
       "      <th>証券番号</th>\n",
       "      <th>契約ステータスコード</th>\n",
       "    </tr>\n",
       "  </thead>\n",
       "  <tbody>\n",
       "    <tr>\n",
       "      <th>0</th>\n",
       "      <td>ee57507d74</td>\n",
       "      <td>b893d2a834</td>\n",
       "      <td>無効</td>\n",
       "    </tr>\n",
       "    <tr>\n",
       "      <th>1</th>\n",
       "      <td>ee57507d74</td>\n",
       "      <td>17f3e2daef</td>\n",
       "      <td>有効</td>\n",
       "    </tr>\n",
       "    <tr>\n",
       "      <th>2</th>\n",
       "      <td>d1c9d4fe9f</td>\n",
       "      <td>b573e81aca</td>\n",
       "      <td>有効</td>\n",
       "    </tr>\n",
       "    <tr>\n",
       "      <th>3</th>\n",
       "      <td>d1c9d4fe9f</td>\n",
       "      <td>65498ff111</td>\n",
       "      <td>無効</td>\n",
       "    </tr>\n",
       "    <tr>\n",
       "      <th>4</th>\n",
       "      <td>f97b25aba0</td>\n",
       "      <td>82a02f5005</td>\n",
       "      <td>有効</td>\n",
       "    </tr>\n",
       "  </tbody>\n",
       "</table>\n",
       "</div>"
      ],
      "text/plain": [
       "       基本契約番号        証券番号 契約ステータスコード\n",
       "0  ee57507d74  b893d2a834         無効\n",
       "1  ee57507d74  17f3e2daef         有効\n",
       "2  d1c9d4fe9f  b573e81aca         有効\n",
       "3  d1c9d4fe9f  65498ff111         無効\n",
       "4  f97b25aba0  82a02f5005         有効"
      ]
     },
     "execution_count": 8,
     "metadata": {},
     "output_type": "execute_result"
    }
   ],
   "source": [
    "print(df_contracts.shape)\n",
    "print(df_contracts['証券番号'].nunique())\n",
    "print(df_contracts['基本契約番号'].nunique())\n",
    "df_contracts.head()"
   ]
  },
  {
   "cell_type": "code",
   "execution_count": 9,
   "id": "2e6274d9-b0be-4ef3-9443-8a21312b85a8",
   "metadata": {},
   "outputs": [
    {
     "name": "stdout",
     "output_type": "stream",
     "text": [
      "(5000, 2)\n",
      "5000\n"
     ]
    },
    {
     "data": {
      "text/html": [
       "<div>\n",
       "<style scoped>\n",
       "    .dataframe tbody tr th:only-of-type {\n",
       "        vertical-align: middle;\n",
       "    }\n",
       "\n",
       "    .dataframe tbody tr th {\n",
       "        vertical-align: top;\n",
       "    }\n",
       "\n",
       "    .dataframe thead th {\n",
       "        text-align: right;\n",
       "    }\n",
       "</style>\n",
       "<table border=\"1\" class=\"dataframe\">\n",
       "  <thead>\n",
       "    <tr style=\"text-align: right;\">\n",
       "      <th></th>\n",
       "      <th>基本契約番号</th>\n",
       "      <th>登録スコア</th>\n",
       "    </tr>\n",
       "  </thead>\n",
       "  <tbody>\n",
       "    <tr>\n",
       "      <th>0</th>\n",
       "      <td>1281b7166e</td>\n",
       "      <td>23</td>\n",
       "    </tr>\n",
       "    <tr>\n",
       "      <th>1</th>\n",
       "      <td>4f19431d79</td>\n",
       "      <td>53</td>\n",
       "    </tr>\n",
       "    <tr>\n",
       "      <th>2</th>\n",
       "      <td>f8fb31daf3</td>\n",
       "      <td>24</td>\n",
       "    </tr>\n",
       "    <tr>\n",
       "      <th>3</th>\n",
       "      <td>15597770aa</td>\n",
       "      <td>24</td>\n",
       "    </tr>\n",
       "    <tr>\n",
       "      <th>4</th>\n",
       "      <td>56e68431f1</td>\n",
       "      <td>63</td>\n",
       "    </tr>\n",
       "  </tbody>\n",
       "</table>\n",
       "</div>"
      ],
      "text/plain": [
       "       基本契約番号  登録スコア\n",
       "0  1281b7166e     23\n",
       "1  4f19431d79     53\n",
       "2  f8fb31daf3     24\n",
       "3  15597770aa     24\n",
       "4  56e68431f1     63"
      ]
     },
     "execution_count": 9,
     "metadata": {},
     "output_type": "execute_result"
    }
   ],
   "source": [
    "print(df_scores.shape)\n",
    "print(df_scores['基本契約番号'].nunique())\n",
    "df_scores.head()"
   ]
  },
  {
   "cell_type": "code",
   "execution_count": 10,
   "id": "af948aa6-6f15-46de-8c95-b4575edd5760",
   "metadata": {},
   "outputs": [
    {
     "name": "stdout",
     "output_type": "stream",
     "text": [
      "(2500, 1)\n",
      "2500\n"
     ]
    },
    {
     "data": {
      "text/html": [
       "<div>\n",
       "<style scoped>\n",
       "    .dataframe tbody tr th:only-of-type {\n",
       "        vertical-align: middle;\n",
       "    }\n",
       "\n",
       "    .dataframe tbody tr th {\n",
       "        vertical-align: top;\n",
       "    }\n",
       "\n",
       "    .dataframe thead th {\n",
       "        text-align: right;\n",
       "    }\n",
       "</style>\n",
       "<table border=\"1\" class=\"dataframe\">\n",
       "  <thead>\n",
       "    <tr style=\"text-align: right;\">\n",
       "      <th></th>\n",
       "      <th>基本契約番号</th>\n",
       "    </tr>\n",
       "  </thead>\n",
       "  <tbody>\n",
       "    <tr>\n",
       "      <th>0</th>\n",
       "      <td>483eeb3510</td>\n",
       "    </tr>\n",
       "    <tr>\n",
       "      <th>1</th>\n",
       "      <td>ea62eaef55</td>\n",
       "    </tr>\n",
       "    <tr>\n",
       "      <th>2</th>\n",
       "      <td>2c5d027490</td>\n",
       "    </tr>\n",
       "    <tr>\n",
       "      <th>3</th>\n",
       "      <td>efe05e50fd</td>\n",
       "    </tr>\n",
       "    <tr>\n",
       "      <th>4</th>\n",
       "      <td>5fcfa9da29</td>\n",
       "    </tr>\n",
       "  </tbody>\n",
       "</table>\n",
       "</div>"
      ],
      "text/plain": [
       "       基本契約番号\n",
       "0  483eeb3510\n",
       "1  ea62eaef55\n",
       "2  2c5d027490\n",
       "3  efe05e50fd\n",
       "4  5fcfa9da29"
      ]
     },
     "execution_count": 10,
     "metadata": {},
     "output_type": "execute_result"
    }
   ],
   "source": [
    "print(df_registered.shape)\n",
    "print(df_registered['基本契約番号'].nunique())\n",
    "df_registered.head()"
   ]
  },
  {
   "cell_type": "code",
   "execution_count": 11,
   "id": "76f6bf1e-b4e9-43d0-ae6c-43f5064cc16b",
   "metadata": {},
   "outputs": [],
   "source": [
    "df_main = df_contracts.copy()\n",
    "df_register = df_registered.copy()\n",
    "df_main.to_csv('../data/df_main.csv', index=False)\n",
    "df_scores.to_csv('../data/df_scores.csv', index=False)\n",
    "df_register.to_csv('../data/df_register.csv', index=False)"
   ]
  },
  {
   "cell_type": "code",
   "execution_count": null,
   "id": "5bb586da-eae4-4415-a2e9-93166a82cb65",
   "metadata": {},
   "outputs": [],
   "source": []
  }
 ],
 "metadata": {
  "kernelspec": {
   "display_name": "Python 3 (ipykernel)",
   "language": "python",
   "name": "python3"
  },
  "language_info": {
   "codemirror_mode": {
    "name": "ipython",
    "version": 3
   },
   "file_extension": ".py",
   "mimetype": "text/x-python",
   "name": "python",
   "nbconvert_exporter": "python",
   "pygments_lexer": "ipython3",
   "version": "3.12.0"
  }
 },
 "nbformat": 4,
 "nbformat_minor": 5
}
