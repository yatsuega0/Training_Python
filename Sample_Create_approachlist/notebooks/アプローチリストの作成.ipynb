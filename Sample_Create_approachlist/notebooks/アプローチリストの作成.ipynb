{
 "cells": [
  {
   "cell_type": "markdown",
   "id": "330714ef-d3b8-4961-bb48-272945234f68",
   "metadata": {},
   "source": [
    "## アプローチリストの作成\n",
    "\n",
    "    ・インプット\n",
    "      契約者情報\n",
    "      直近webサイト登録者情報\n",
    "      スコアリングデータ\n",
    "\n",
    "    ・アウトプット\n",
    "      スコア上位1000件のwebサイト未登録者リスト（顧客へのアプローチリストとしてに利用）"
   ]
  },
  {
   "cell_type": "code",
   "execution_count": 1,
   "id": "e80560a2-56b0-43c0-97b4-3cb35731e173",
   "metadata": {},
   "outputs": [],
   "source": [
    "import pandas as pd\n",
    "import numpy as np\n",
    "from glob import glob"
   ]
  },
  {
   "cell_type": "code",
   "execution_count": 2,
   "id": "61f1086f-a38d-4cb4-b594-b0c3effbe050",
   "metadata": {},
   "outputs": [
    {
     "data": {
      "text/plain": [
       "['../data/df_main.csv', '../data/df_register.csv', '../data/df_scores.csv']"
      ]
     },
     "execution_count": 2,
     "metadata": {},
     "output_type": "execute_result"
    }
   ],
   "source": [
    "files = glob('../data/*.csv')\n",
    "files"
   ]
  },
  {
   "cell_type": "code",
   "execution_count": 3,
   "id": "a93bce21-f726-4dec-9ee3-307bd3cb5410",
   "metadata": {},
   "outputs": [
    {
     "data": {
      "text/plain": [
       "(15000, 3)"
      ]
     },
     "execution_count": 3,
     "metadata": {},
     "output_type": "execute_result"
    }
   ],
   "source": [
    "df_main = pd.read_csv(files[0])\n",
    "df_main.shape"
   ]
  },
  {
   "cell_type": "code",
   "execution_count": 4,
   "id": "04fefceb-9621-4007-9e9c-147fbbc07681",
   "metadata": {},
   "outputs": [
    {
     "data": {
      "text/plain": [
       "(2500, 1)"
      ]
     },
     "execution_count": 4,
     "metadata": {},
     "output_type": "execute_result"
    }
   ],
   "source": [
    "df_register = pd.read_csv(files[1])\n",
    "df_register.shape"
   ]
  },
  {
   "cell_type": "code",
   "execution_count": 5,
   "id": "b0ae1865-9944-441e-8092-870e23e5f1cd",
   "metadata": {},
   "outputs": [
    {
     "data": {
      "text/plain": [
       "(5000, 2)"
      ]
     },
     "execution_count": 5,
     "metadata": {},
     "output_type": "execute_result"
    }
   ],
   "source": [
    "df_scores = pd.read_csv(files[2])\n",
    "df_scores.shape"
   ]
  },
  {
   "cell_type": "markdown",
   "id": "81ecc986-ee9a-4139-99fc-868567209cb9",
   "metadata": {},
   "source": [
    "### 有効な契約者を絞り込む"
   ]
  },
  {
   "cell_type": "code",
   "execution_count": 6,
   "id": "7245bcf7-8e7e-40e0-b444-75170dec00a0",
   "metadata": {},
   "outputs": [
    {
     "data": {
      "text/plain": [
       "(12044, 3)"
      ]
     },
     "execution_count": 6,
     "metadata": {},
     "output_type": "execute_result"
    }
   ],
   "source": [
    "valid_main = df_main[df_main['契約ステータスコード'] == '有効']\n",
    "valid_main.shape"
   ]
  },
  {
   "cell_type": "markdown",
   "id": "f8b52f43-8e83-4c37-bad5-ca25f8797d51",
   "metadata": {},
   "source": [
    "### Webサイトに登録していない契約者を取得"
   ]
  },
  {
   "cell_type": "code",
   "execution_count": 7,
   "id": "76da0ca6-c8d8-4f54-86b1-49c2f3dce079",
   "metadata": {},
   "outputs": [
    {
     "data": {
      "text/plain": [
       "(8000, 3)"
      ]
     },
     "execution_count": 7,
     "metadata": {},
     "output_type": "execute_result"
    }
   ],
   "source": [
    "non_reg = valid_main[~valid_main['基本契約番号'].isin(df_register['基本契約番号'])]\n",
    "non_reg.shape"
   ]
  },
  {
   "cell_type": "markdown",
   "id": "7bf14a87-d7e7-491e-9046-6d6e57bc7366",
   "metadata": {},
   "source": [
    "### 有効契約者のスコアを付与"
   ]
  },
  {
   "cell_type": "code",
   "execution_count": 8,
   "id": "aaee6fe4-2b6b-4578-b032-2ca1a5909492",
   "metadata": {},
   "outputs": [
    {
     "data": {
      "text/plain": [
       "4562"
      ]
     },
     "execution_count": 8,
     "metadata": {},
     "output_type": "execute_result"
    }
   ],
   "source": [
    "non_reg['基本契約番号'].nunique()"
   ]
  },
  {
   "cell_type": "code",
   "execution_count": 9,
   "id": "7b2c54c1-6784-4219-ac86-0fec7cc011b8",
   "metadata": {},
   "outputs": [
    {
     "data": {
      "text/plain": [
       "(3076, 4)"
      ]
     },
     "execution_count": 9,
     "metadata": {},
     "output_type": "execute_result"
    }
   ],
   "source": [
    "non_reg_list = non_reg.drop_duplicates(subset=['基本契約番号'], keep='first')\n",
    "approach_scores = pd.merge(non_reg_list, df_scores, on='基本契約番号', how='inner')\n",
    "approach_scores.shape"
   ]
  },
  {
   "cell_type": "code",
   "execution_count": 10,
   "id": "8326da2d-fb40-4e0b-b425-fc0c17ee299c",
   "metadata": {},
   "outputs": [
    {
     "data": {
      "text/html": [
       "<div>\n",
       "<style scoped>\n",
       "    .dataframe tbody tr th:only-of-type {\n",
       "        vertical-align: middle;\n",
       "    }\n",
       "\n",
       "    .dataframe tbody tr th {\n",
       "        vertical-align: top;\n",
       "    }\n",
       "\n",
       "    .dataframe thead th {\n",
       "        text-align: right;\n",
       "    }\n",
       "</style>\n",
       "<table border=\"1\" class=\"dataframe\">\n",
       "  <thead>\n",
       "    <tr style=\"text-align: right;\">\n",
       "      <th></th>\n",
       "      <th>基本契約番号</th>\n",
       "      <th>証券番号</th>\n",
       "      <th>契約ステータスコード</th>\n",
       "      <th>登録スコア</th>\n",
       "    </tr>\n",
       "  </thead>\n",
       "  <tbody>\n",
       "    <tr>\n",
       "      <th>0</th>\n",
       "      <td>f97b25aba0</td>\n",
       "      <td>82a02f5005</td>\n",
       "      <td>有効</td>\n",
       "      <td>88</td>\n",
       "    </tr>\n",
       "    <tr>\n",
       "      <th>1</th>\n",
       "      <td>0c1ae83aa5</td>\n",
       "      <td>31d7def1ab</td>\n",
       "      <td>有効</td>\n",
       "      <td>82</td>\n",
       "    </tr>\n",
       "    <tr>\n",
       "      <th>2</th>\n",
       "      <td>83c27623f1</td>\n",
       "      <td>e03c3525e2</td>\n",
       "      <td>有効</td>\n",
       "      <td>84</td>\n",
       "    </tr>\n",
       "    <tr>\n",
       "      <th>3</th>\n",
       "      <td>70042afb50</td>\n",
       "      <td>318a4e98be</td>\n",
       "      <td>有効</td>\n",
       "      <td>21</td>\n",
       "    </tr>\n",
       "    <tr>\n",
       "      <th>4</th>\n",
       "      <td>45fdd9bf05</td>\n",
       "      <td>95b9281e7f</td>\n",
       "      <td>有効</td>\n",
       "      <td>96</td>\n",
       "    </tr>\n",
       "  </tbody>\n",
       "</table>\n",
       "</div>"
      ],
      "text/plain": [
       "       基本契約番号        証券番号 契約ステータスコード  登録スコア\n",
       "0  f97b25aba0  82a02f5005         有効     88\n",
       "1  0c1ae83aa5  31d7def1ab         有効     82\n",
       "2  83c27623f1  e03c3525e2         有効     84\n",
       "3  70042afb50  318a4e98be         有効     21\n",
       "4  45fdd9bf05  95b9281e7f         有効     96"
      ]
     },
     "execution_count": 10,
     "metadata": {},
     "output_type": "execute_result"
    }
   ],
   "source": [
    "approach_scores.head()"
   ]
  },
  {
   "cell_type": "markdown",
   "id": "3afbb78a-bc5b-4c70-9189-d8472687dbd9",
   "metadata": {},
   "source": [
    "### スコア順にソート"
   ]
  },
  {
   "cell_type": "code",
   "execution_count": 11,
   "id": "3d855c83-64c8-4ecc-b675-c294e9daa373",
   "metadata": {},
   "outputs": [
    {
     "data": {
      "text/html": [
       "<div>\n",
       "<style scoped>\n",
       "    .dataframe tbody tr th:only-of-type {\n",
       "        vertical-align: middle;\n",
       "    }\n",
       "\n",
       "    .dataframe tbody tr th {\n",
       "        vertical-align: top;\n",
       "    }\n",
       "\n",
       "    .dataframe thead th {\n",
       "        text-align: right;\n",
       "    }\n",
       "</style>\n",
       "<table border=\"1\" class=\"dataframe\">\n",
       "  <thead>\n",
       "    <tr style=\"text-align: right;\">\n",
       "      <th></th>\n",
       "      <th>基本契約番号</th>\n",
       "      <th>証券番号</th>\n",
       "      <th>契約ステータスコード</th>\n",
       "      <th>登録スコア</th>\n",
       "    </tr>\n",
       "  </thead>\n",
       "  <tbody>\n",
       "    <tr>\n",
       "      <th>37</th>\n",
       "      <td>6b78036108</td>\n",
       "      <td>b056f2fd7c</td>\n",
       "      <td>有効</td>\n",
       "      <td>97</td>\n",
       "    </tr>\n",
       "    <tr>\n",
       "      <th>2157</th>\n",
       "      <td>2af1f87a49</td>\n",
       "      <td>cf06f18edb</td>\n",
       "      <td>有効</td>\n",
       "      <td>97</td>\n",
       "    </tr>\n",
       "    <tr>\n",
       "      <th>2152</th>\n",
       "      <td>6ccf2256c0</td>\n",
       "      <td>6c37fa011e</td>\n",
       "      <td>有効</td>\n",
       "      <td>97</td>\n",
       "    </tr>\n",
       "    <tr>\n",
       "      <th>2400</th>\n",
       "      <td>8d01e4b18c</td>\n",
       "      <td>dd105256cd</td>\n",
       "      <td>有効</td>\n",
       "      <td>97</td>\n",
       "    </tr>\n",
       "    <tr>\n",
       "      <th>740</th>\n",
       "      <td>7c8a2e39d1</td>\n",
       "      <td>92d7a112e0</td>\n",
       "      <td>有効</td>\n",
       "      <td>97</td>\n",
       "    </tr>\n",
       "  </tbody>\n",
       "</table>\n",
       "</div>"
      ],
      "text/plain": [
       "          基本契約番号        証券番号 契約ステータスコード  登録スコア\n",
       "37    6b78036108  b056f2fd7c         有効     97\n",
       "2157  2af1f87a49  cf06f18edb         有効     97\n",
       "2152  6ccf2256c0  6c37fa011e         有効     97\n",
       "2400  8d01e4b18c  dd105256cd         有効     97\n",
       "740   7c8a2e39d1  92d7a112e0         有効     97"
      ]
     },
     "execution_count": 11,
     "metadata": {},
     "output_type": "execute_result"
    }
   ],
   "source": [
    "sorted_data = approach_scores.sort_values(by='登録スコア', ascending=False)\n",
    "sorted_data.head()"
   ]
  },
  {
   "cell_type": "markdown",
   "id": "f8bb360c-153b-42f9-99e3-934148dfd1e4",
   "metadata": {},
   "source": [
    "### 上位1000件を取得（1000番目のスコアと同じスコアを持つ全ての契約者を含む）"
   ]
  },
  {
   "cell_type": "code",
   "execution_count": 12,
   "id": "686c2ce0-df5a-46a3-a2f3-dcd869680af1",
   "metadata": {},
   "outputs": [
    {
     "name": "stdout",
     "output_type": "stream",
     "text": [
      "1000番目のスコア 65\n"
     ]
    },
    {
     "data": {
      "text/plain": [
       "(1037, 4)"
      ]
     },
     "execution_count": 12,
     "metadata": {},
     "output_type": "execute_result"
    }
   ],
   "source": [
    "top_1000_score = sorted_data['登録スコア'].iloc[999]\n",
    "print('1000番目のスコア', top_1000_score)\n",
    "top_1000 = sorted_data[sorted_data['登録スコア'] >= top_1000_score]\n",
    "top_1000.shape"
   ]
  },
  {
   "cell_type": "markdown",
   "id": "b5dae5e8-c3e8-4895-9029-8d4ed1cba705",
   "metadata": {},
   "source": [
    "### リストをCSVに出力"
   ]
  },
  {
   "cell_type": "code",
   "execution_count": 13,
   "id": "884b2c99-616a-4845-b0f0-0054f4a2ad9e",
   "metadata": {},
   "outputs": [],
   "source": [
    "approach_list = top_1000[['基本契約番号', '登録スコア']]\n",
    "approach_list.to_csv('../output/直近未登録者に対するアプローチリスト.csv', index=False)"
   ]
  },
  {
   "cell_type": "code",
   "execution_count": null,
   "id": "0fc3e5e8-01b8-4403-af5d-924e9e280839",
   "metadata": {},
   "outputs": [],
   "source": []
  }
 ],
 "metadata": {
  "kernelspec": {
   "display_name": "Python 3 (ipykernel)",
   "language": "python",
   "name": "python3"
  },
  "language_info": {
   "codemirror_mode": {
    "name": "ipython",
    "version": 3
   },
   "file_extension": ".py",
   "mimetype": "text/x-python",
   "name": "python",
   "nbconvert_exporter": "python",
   "pygments_lexer": "ipython3",
   "version": "3.12.0"
  }
 },
 "nbformat": 4,
 "nbformat_minor": 5
}
