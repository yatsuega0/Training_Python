{
 "cells": [
  {
   "cell_type": "code",
   "execution_count": 1,
   "id": "1cc42186-dbfb-447d-bafb-26a672f8090a",
   "metadata": {
    "execution": {
     "iopub.execute_input": "2024-11-28T13:52:14.710159Z",
     "iopub.status.busy": "2024-11-28T13:52:14.709422Z",
     "iopub.status.idle": "2024-11-28T13:52:16.665487Z",
     "shell.execute_reply": "2024-11-28T13:52:16.664911Z",
     "shell.execute_reply.started": "2024-11-28T13:52:14.710126Z"
    }
   },
   "outputs": [],
   "source": [
    "import pandas as pd\n",
    "import numbers as np\n",
    "import seaborn as sns\n",
    "import matplotlib.pyplot as plt\n",
    "import japanize_matplotlib\n",
    "import sys\n",
    "import openpyxl\n",
    "import yaml\n",
    "sys.path.append('../titanic_utils')\n",
    "\n",
    "import Data_check as ch\n",
    "import Processing as ps\n",
    "import Modeling_rf as rf"
   ]
  },
  {
   "cell_type": "code",
   "execution_count": 2,
   "id": "9142eb86-e1c4-4dd6-838f-d810eb480594",
   "metadata": {
    "execution": {
     "iopub.execute_input": "2024-11-28T13:52:19.098883Z",
     "iopub.status.busy": "2024-11-28T13:52:19.098183Z",
     "iopub.status.idle": "2024-11-28T13:52:19.120884Z",
     "shell.execute_reply": "2024-11-28T13:52:19.117602Z",
     "shell.execute_reply.started": "2024-11-28T13:52:19.098836Z"
    }
   },
   "outputs": [],
   "source": [
    "df_train = ch.load_titanic_data('train.csv', '../data')\n",
    "df_test = ch.load_titanic_data('test.csv', '../data')"
   ]
  },
  {
   "cell_type": "code",
   "execution_count": 3,
   "id": "130e42bd-34c0-48f8-976c-cae4272c7e3e",
   "metadata": {
    "execution": {
     "iopub.execute_input": "2024-11-28T13:52:21.224021Z",
     "iopub.status.busy": "2024-11-28T13:52:21.222895Z",
     "iopub.status.idle": "2024-11-28T13:52:21.235137Z",
     "shell.execute_reply": "2024-11-28T13:52:21.233467Z",
     "shell.execute_reply.started": "2024-11-28T13:52:21.223969Z"
    }
   },
   "outputs": [],
   "source": [
    "# Fareの欠損値を中央値で補完\n",
    "df_train = ps.fill_missing_values(df_train, 'Fare', value=df_train['Fare'].median())\n",
    "df_test = ps.fill_missing_values(df_test, 'Fare', value=df_test['Fare'].median())"
   ]
  },
  {
   "cell_type": "code",
   "execution_count": 4,
   "id": "3ff90c2e-7b91-4317-90a3-d663f544252e",
   "metadata": {
    "execution": {
     "iopub.execute_input": "2024-11-28T13:52:22.873188Z",
     "iopub.status.busy": "2024-11-28T13:52:22.872426Z",
     "iopub.status.idle": "2024-11-28T13:52:22.890370Z",
     "shell.execute_reply": "2024-11-28T13:52:22.889243Z",
     "shell.execute_reply.started": "2024-11-28T13:52:22.873141Z"
    }
   },
   "outputs": [
    {
     "data": {
      "text/plain": [
       "Embarked\n",
       "S    644\n",
       "C    170\n",
       "Q     77\n",
       "Name: count, dtype: int64"
      ]
     },
     "execution_count": 4,
     "metadata": {},
     "output_type": "execute_result"
    }
   ],
   "source": [
    "# Embarkedの欠損値→Unknown\n",
    "df_train = ps.fill_missing_values(df_train, 'Embarked', 'C')\n",
    "df_test = ps.fill_missing_values(df_test, 'Embarked', 'C')\n",
    "df_train['Embarked'].value_counts()"
   ]
  },
  {
   "cell_type": "code",
   "execution_count": 5,
   "id": "e5922f6a-d689-4908-bb68-90781a131a31",
   "metadata": {
    "execution": {
     "iopub.execute_input": "2024-11-28T13:52:24.771136Z",
     "iopub.status.busy": "2024-11-28T13:52:24.769930Z",
     "iopub.status.idle": "2024-11-28T13:52:24.796247Z",
     "shell.execute_reply": "2024-11-28T13:52:24.795309Z",
     "shell.execute_reply.started": "2024-11-28T13:52:24.771078Z"
    }
   },
   "outputs": [
    {
     "data": {
      "text/plain": [
       "TicketGroup\n",
       "1    596\n",
       "2    295\n",
       "Name: count, dtype: int64"
      ]
     },
     "execution_count": 5,
     "metadata": {},
     "output_type": "execute_result"
    }
   ],
   "source": [
    "# チケットの枚数でグループ化した特徴量\n",
    "df_train = ps.label_ticket_groups(df_train)\n",
    "df_test = ps.label_ticket_groups(df_test)\n",
    "df_train['TicketGroup'].value_counts()"
   ]
  },
  {
   "cell_type": "code",
   "execution_count": 6,
   "id": "6d9b2954-9a37-4c56-a46c-3717b070ad11",
   "metadata": {
    "execution": {
     "iopub.execute_input": "2024-11-28T13:52:26.561683Z",
     "iopub.status.busy": "2024-11-28T13:52:26.560641Z",
     "iopub.status.idle": "2024-11-28T13:52:26.619336Z",
     "shell.execute_reply": "2024-11-28T13:52:26.618533Z",
     "shell.execute_reply.started": "2024-11-28T13:52:26.561632Z"
    }
   },
   "outputs": [
    {
     "data": {
      "text/plain": [
       "Honorifics\n",
       "Master     558\n",
       "Miss       184\n",
       "Mrs        127\n",
       "Unknown     13\n",
       "Officer      5\n",
       "Royalty      4\n",
       "Name: count, dtype: int64"
      ]
     },
     "execution_count": 6,
     "metadata": {},
     "output_type": "execute_result"
    }
   ],
   "source": [
    "# Nameから敬称グループを作成\n",
    "df_train = ps.assign_honorific_groups(df_train)\n",
    "df_test = ps.assign_honorific_groups(df_test)\n",
    "df_train['Honorifics'].value_counts()"
   ]
  },
  {
   "cell_type": "code",
   "execution_count": 7,
   "id": "0efb3b8f-196c-41a3-a803-f110ff5f9b7b",
   "metadata": {
    "execution": {
     "iopub.execute_input": "2024-11-28T13:52:28.266882Z",
     "iopub.status.busy": "2024-11-28T13:52:28.266193Z",
     "iopub.status.idle": "2024-11-28T13:52:28.543439Z",
     "shell.execute_reply": "2024-11-28T13:52:28.542901Z",
     "shell.execute_reply.started": "2024-11-28T13:52:28.266832Z"
    }
   },
   "outputs": [],
   "source": [
    "# Ageの欠損値→ランダムフォレスト回帰モデルを使用して予測し、代入\n",
    "df_train = ps.predict_and_fill_age(df_train)\n",
    "df_test = ps.predict_and_fill_age(df_test)"
   ]
  },
  {
   "cell_type": "code",
   "execution_count": 8,
   "id": "c87722e9-92f0-4769-bac5-38cc9134124b",
   "metadata": {
    "execution": {
     "iopub.execute_input": "2024-11-28T13:52:30.061142Z",
     "iopub.status.busy": "2024-11-28T13:52:30.059793Z",
     "iopub.status.idle": "2024-11-28T13:52:30.076599Z",
     "shell.execute_reply": "2024-11-28T13:52:30.075815Z",
     "shell.execute_reply.started": "2024-11-28T13:52:30.061087Z"
    }
   },
   "outputs": [
    {
     "data": {
      "text/plain": [
       "FamilySize\n",
       "1     537\n",
       "2     161\n",
       "3     102\n",
       "4      29\n",
       "5      15\n",
       "6      22\n",
       "7      12\n",
       "8       6\n",
       "11      7\n",
       "Name: count, dtype: int64"
      ]
     },
     "execution_count": 8,
     "metadata": {},
     "output_type": "execute_result"
    }
   ],
   "source": [
    "# 家族のサイズを計算してラベルを割り当て\n",
    "df_train = ps.assign_family_labels(df_train)\n",
    "df_test = ps.assign_family_labels(df_test)\n",
    "df_train['FamilySize'].value_counts().sort_index()"
   ]
  },
  {
   "cell_type": "code",
   "execution_count": 9,
   "id": "f505d134-7170-4b5a-a99c-f66e980948fd",
   "metadata": {
    "execution": {
     "iopub.execute_input": "2024-11-28T13:52:32.221216Z",
     "iopub.status.busy": "2024-11-28T13:52:32.219705Z",
     "iopub.status.idle": "2024-11-28T13:52:32.231640Z",
     "shell.execute_reply": "2024-11-28T13:52:32.230624Z",
     "shell.execute_reply.started": "2024-11-28T13:52:32.221161Z"
    }
   },
   "outputs": [
    {
     "data": {
      "text/plain": [
       "FamilyLabel\n",
       "0     13\n",
       "1    586\n",
       "2    292\n",
       "Name: count, dtype: int64"
      ]
     },
     "execution_count": 9,
     "metadata": {},
     "output_type": "execute_result"
    }
   ],
   "source": [
    "df_train['FamilyLabel'].value_counts().sort_index()"
   ]
  },
  {
   "cell_type": "code",
   "execution_count": 11,
   "id": "4824e4ed-ebda-412a-b7a0-6b8438cbe9ef",
   "metadata": {
    "execution": {
     "iopub.execute_input": "2024-11-28T13:53:05.881454Z",
     "iopub.status.busy": "2024-11-28T13:53:05.881057Z",
     "iopub.status.idle": "2024-11-28T13:53:05.890072Z",
     "shell.execute_reply": "2024-11-28T13:53:05.888503Z",
     "shell.execute_reply.started": "2024-11-28T13:53:05.881424Z"
    }
   },
   "outputs": [],
   "source": [
    "with open(\"../settings/parameters.yml\", 'r') as file:\n",
    "    params_ = yaml.safe_load(file)"
   ]
  },
  {
   "cell_type": "code",
   "execution_count": 12,
   "id": "b9308372-d72a-48e3-8f30-66fe91f92719",
   "metadata": {
    "execution": {
     "iopub.execute_input": "2024-11-28T13:53:07.971587Z",
     "iopub.status.busy": "2024-11-28T13:53:07.970091Z",
     "iopub.status.idle": "2024-11-28T13:53:07.990369Z",
     "shell.execute_reply": "2024-11-28T13:53:07.989496Z",
     "shell.execute_reply.started": "2024-11-28T13:53:07.971469Z"
    }
   },
   "outputs": [],
   "source": [
    "train_data = df_train[params_['column_settings']['train_columns']]\n",
    "train_data = pd.get_dummies(train_data, dtype=int)\n",
    "X = train_data.values[:,1:]  \n",
    "y = train_data.values[:,0]\n",
    "\n",
    "test_data = df_test[params_['column_settings']['test_columns']]\n",
    "test_data = pd.get_dummies(test_data, dtype=int)"
   ]
  },
  {
   "cell_type": "code",
   "execution_count": 13,
   "id": "f865980c-f7ce-421d-9919-9b12870464e7",
   "metadata": {
    "execution": {
     "iopub.execute_input": "2024-11-28T13:53:12.719547Z",
     "iopub.status.busy": "2024-11-28T13:53:12.719204Z",
     "iopub.status.idle": "2024-11-28T13:53:12.727203Z",
     "shell.execute_reply": "2024-11-28T13:53:12.726255Z",
     "shell.execute_reply.started": "2024-11-28T13:53:12.719521Z"
    }
   },
   "outputs": [
    {
     "name": "stdout",
     "output_type": "stream",
     "text": [
      "{'n_estimators': [20, 21, 22, 23, 24, 25, 26, 27, 28, 29], 'max_depth': [3, 4, 5, 6, 7, 8, 9], 'random_state': 10, 'max_features': 'sqrt'}\n"
     ]
    }
   ],
   "source": [
    "# パラメータの読み込み\n",
    "params = rf.load_parameters(\"../settings/parameters.yml\")\n",
    "print(params['random_forest_config'])"
   ]
  },
  {
   "cell_type": "code",
   "execution_count": 14,
   "id": "efb3c6cd-b8e9-4828-b817-831063438cca",
   "metadata": {
    "execution": {
     "iopub.execute_input": "2024-11-28T13:53:17.351653Z",
     "iopub.status.busy": "2024-11-28T13:53:17.351187Z",
     "iopub.status.idle": "2024-11-28T13:53:43.971804Z",
     "shell.execute_reply": "2024-11-28T13:53:43.971074Z",
     "shell.execute_reply.started": "2024-11-28T13:53:17.351616Z"
    }
   },
   "outputs": [],
   "source": [
    "trained_model = rf.train_model(X, y, params)"
   ]
  },
  {
   "cell_type": "code",
   "execution_count": 15,
   "id": "30fed691-4040-4eac-bfa0-3c4c4af5bbe8",
   "metadata": {
    "execution": {
     "iopub.execute_input": "2024-11-28T13:53:47.223301Z",
     "iopub.status.busy": "2024-11-28T13:53:47.222658Z",
     "iopub.status.idle": "2024-11-28T13:53:47.230615Z",
     "shell.execute_reply": "2024-11-28T13:53:47.228800Z",
     "shell.execute_reply.started": "2024-11-28T13:53:47.223254Z"
    }
   },
   "outputs": [
    {
     "name": "stdout",
     "output_type": "stream",
     "text": [
      "Best Parameters: {'classify__max_depth': 7, 'classify__n_estimators': 20}\n",
      "Best Score: 0.8237952559300872\n"
     ]
    }
   ],
   "source": [
    "# モデル評価\n",
    "best_params = trained_model.best_params_\n",
    "best_score = trained_model.best_score_\n",
    "print(f\"Best Parameters: {best_params}\")\n",
    "print(f\"Best Score: {best_score}\")"
   ]
  },
  {
   "cell_type": "code",
   "execution_count": 16,
   "id": "cb6f638b-8574-47cd-a3a5-f85402e66a46",
   "metadata": {
    "execution": {
     "iopub.execute_input": "2024-11-28T13:53:49.921113Z",
     "iopub.status.busy": "2024-11-28T13:53:49.920658Z",
     "iopub.status.idle": "2024-11-28T13:53:49.934762Z",
     "shell.execute_reply": "2024-11-28T13:53:49.933887Z",
     "shell.execute_reply.started": "2024-11-28T13:53:49.921077Z"
    }
   },
   "outputs": [],
   "source": [
    "# テストデータの予測\n",
    "predictions = rf.predict(trained_model, test_data)"
   ]
  },
  {
   "cell_type": "code",
   "execution_count": 17,
   "id": "9dcb1cec-f71d-4a10-8dfe-a816b05aa7de",
   "metadata": {
    "execution": {
     "iopub.execute_input": "2024-11-28T13:56:37.851021Z",
     "iopub.status.busy": "2024-11-28T13:56:37.850411Z",
     "iopub.status.idle": "2024-11-28T13:56:37.875419Z",
     "shell.execute_reply": "2024-11-28T13:56:37.874441Z",
     "shell.execute_reply.started": "2024-11-28T13:56:37.850976Z"
    }
   },
   "outputs": [
    {
     "data": {
      "text/plain": [
       "'gender_submission.csv updated with predictions'"
      ]
     },
     "execution_count": 17,
     "metadata": {},
     "output_type": "execute_result"
    }
   ],
   "source": [
    "rf.result_to_csv(predictions, 'randam_forest')"
   ]
  },
  {
   "cell_type": "code",
   "execution_count": null,
   "id": "9b204b36-5e68-4dd4-90c2-e9989c25e6e5",
   "metadata": {},
   "outputs": [],
   "source": []
  }
 ],
 "metadata": {
  "kernelspec": {
   "display_name": "Python 3 (ipykernel)",
   "language": "python",
   "name": "python3"
  },
  "language_info": {
   "codemirror_mode": {
    "name": "ipython",
    "version": 3
   },
   "file_extension": ".py",
   "mimetype": "text/x-python",
   "name": "python",
   "nbconvert_exporter": "python",
   "pygments_lexer": "ipython3",
   "version": "3.12.0"
  }
 },
 "nbformat": 4,
 "nbformat_minor": 5
}
